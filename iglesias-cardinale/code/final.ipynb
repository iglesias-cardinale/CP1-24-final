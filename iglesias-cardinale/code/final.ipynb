{
 "cells": [
  {
   "cell_type": "markdown",
   "metadata": {},
   "source": [
    "# How to run the code\n",
    "\n",
    "All code in this repository that has been developed for the final is contained in the module ```final.py```. All other code is separated into many other files and was developed for the midterm. \n",
    "\n",
    "To run the code for the final, open a python envrironment in the directory and import the module using ```import final.py```.\n",
    "\n",
    "\n",
    "## Bibliography\n",
    "We used the following resources to complete this project:\n",
    "\n",
    "    * [os library documentation](https://github.com/iglesias-cardinale/CP1-24-final)"
   ]
  },
  {
   "cell_type": "markdown",
   "metadata": {},
   "source": []
  }
 ],
 "metadata": {
  "language_info": {
   "name": "python"
  }
 },
 "nbformat": 4,
 "nbformat_minor": 2
}
