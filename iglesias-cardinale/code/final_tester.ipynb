{
 "cells": [
  {
   "cell_type": "code",
   "execution_count": 1,
   "metadata": {},
   "outputs": [],
   "source": [
    "import final as fin\n",
    "import numpy as np"
   ]
  },
  {
   "cell_type": "code",
   "execution_count": 2,
   "metadata": {},
   "outputs": [
    {
     "data": {
      "text/plain": [
       "['/workspaces/CP1-24-final/iglesias-cardinale/data/ic004_accel_elevator_up.md',\n",
       " '/workspaces/CP1-24-final/iglesias-cardinale/data/ic003_accel_elevator_down.md',\n",
       " '/workspaces/CP1-24-final/iglesias-cardinale/data/ic001_gps_circle_run001.md',\n",
       " '/workspaces/CP1-24-final/iglesias-cardinale/data/ic002_gps_right_triangle_run001.md']"
      ]
     },
     "execution_count": 2,
     "metadata": {},
     "output_type": "execute_result"
    }
   ],
   "source": [
    "fin.list_files_with_string('/workspaces/CP1-24-final/iglesias-cardinale/data', 'ic0', '.md')"
   ]
  },
  {
   "cell_type": "code",
   "execution_count": 3,
   "metadata": {},
   "outputs": [
    {
     "data": {
      "text/plain": [
       "(array([-2.47484432e+13, -2.45343830e+13]), array([0., 0.]))"
      ]
     },
     "execution_count": 3,
     "metadata": {},
     "output_type": "execute_result"
    }
   ],
   "source": [
    "def fit(x,a,b):\n",
    "    return a*x+b\n",
    "\n",
    "fin.curvefit(fit, [1,0], [0, 1.1, 2, 3, 4], [0, 1, 2.2, 3.1, 4], np.array([0.1,1,0.1,0.2,0.4]))"
   ]
  },
  {
   "cell_type": "code",
   "execution_count": null,
   "metadata": {},
   "outputs": [],
   "source": []
  }
 ],
 "metadata": {
  "kernelspec": {
   "display_name": "Python 3",
   "language": "python",
   "name": "python3"
  },
  "language_info": {
   "codemirror_mode": {
    "name": "ipython",
    "version": 3
   },
   "file_extension": ".py",
   "mimetype": "text/x-python",
   "name": "python",
   "nbconvert_exporter": "python",
   "pygments_lexer": "ipython3",
   "version": "3.11.2"
  }
 },
 "nbformat": 4,
 "nbformat_minor": 2
}
